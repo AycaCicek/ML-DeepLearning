{
  "nbformat": 4,
  "nbformat_minor": 0,
  "metadata": {
    "colab": {
      "provenance": [],
      "authorship_tag": "ABX9TyMpi3NVnicGxgQkIKviWCK9"
    },
    "kernelspec": {
      "name": "python3",
      "display_name": "Python 3"
    },
    "language_info": {
      "name": "python"
    }
  },
  "cells": [
    {
      "cell_type": "code",
      "execution_count": 28,
      "metadata": {
        "id": "NfdmFIjmxaUn"
      },
      "outputs": [],
      "source": [
        "import pandas as pd\n",
        "import numpy as np\n",
        "import matplotlib.pyplot as plt\n",
        "import seaborn as sns \n",
        "\n",
        "import statsmodels.api as sm\n",
        "from sklearn.metrics import mean_squared_error,r2_score,confusion_matrix,accuracy_score,classification_report,roc_auc_score,roc_curve\n",
        "from sklearn.model_selection import train_test_split,GridSearchCV,cross_val_score\n",
        "from sklearn.preprocessing import scale,StandardScaler\n",
        "from sklearn.linear_model import LogisticRegression\n",
        "from sklearn.tree import DecisionTreeClassifier\n",
        "from sklearn.neighbors import KNeighborsClassifier\n",
        "from sklearn.neural_network import MLPClassifier\n",
        "from sklearn.ensemble import RandomForestClassifier\n",
        "from sklearn.ensemble import GradientBoostingClassifier\n",
        "from sklearn.svm import SVC"
      ]
    },
    {
      "cell_type": "code",
      "source": [
        "import warnings \n",
        "warnings.filterwarnings(\"ignore\",category=DeprecationWarning)\n",
        "warnings.filterwarnings(\"ignore\",category=FutureWarning)"
      ],
      "metadata": {
        "id": "LL8pJ25TyOAW"
      },
      "execution_count": 2,
      "outputs": []
    },
    {
      "cell_type": "code",
      "source": [
        "data=pd.read_csv(\"diabetes.csv\")\n",
        "data.head(2)"
      ],
      "metadata": {
        "colab": {
          "base_uri": "https://localhost:8080/",
          "height": 112
        },
        "id": "Iabkxj7myT0r",
        "outputId": "d21af7d7-949f-4b26-b496-288ac89d8807"
      },
      "execution_count": 3,
      "outputs": [
        {
          "output_type": "execute_result",
          "data": {
            "text/plain": [
              "   Pregnancies  Glucose  BloodPressure  SkinThickness  Insulin   BMI  \\\n",
              "0            6      148             72             35        0  33.6   \n",
              "1            1       85             66             29        0  26.6   \n",
              "\n",
              "   DiabetesPedigreeFunction  Age  Outcome  \n",
              "0                     0.627   50        1  \n",
              "1                     0.351   31        0  "
            ],
            "text/html": [
              "\n",
              "  <div id=\"df-6464c5ac-e5fe-45d4-a456-3352b53159f7\">\n",
              "    <div class=\"colab-df-container\">\n",
              "      <div>\n",
              "<style scoped>\n",
              "    .dataframe tbody tr th:only-of-type {\n",
              "        vertical-align: middle;\n",
              "    }\n",
              "\n",
              "    .dataframe tbody tr th {\n",
              "        vertical-align: top;\n",
              "    }\n",
              "\n",
              "    .dataframe thead th {\n",
              "        text-align: right;\n",
              "    }\n",
              "</style>\n",
              "<table border=\"1\" class=\"dataframe\">\n",
              "  <thead>\n",
              "    <tr style=\"text-align: right;\">\n",
              "      <th></th>\n",
              "      <th>Pregnancies</th>\n",
              "      <th>Glucose</th>\n",
              "      <th>BloodPressure</th>\n",
              "      <th>SkinThickness</th>\n",
              "      <th>Insulin</th>\n",
              "      <th>BMI</th>\n",
              "      <th>DiabetesPedigreeFunction</th>\n",
              "      <th>Age</th>\n",
              "      <th>Outcome</th>\n",
              "    </tr>\n",
              "  </thead>\n",
              "  <tbody>\n",
              "    <tr>\n",
              "      <th>0</th>\n",
              "      <td>6</td>\n",
              "      <td>148</td>\n",
              "      <td>72</td>\n",
              "      <td>35</td>\n",
              "      <td>0</td>\n",
              "      <td>33.6</td>\n",
              "      <td>0.627</td>\n",
              "      <td>50</td>\n",
              "      <td>1</td>\n",
              "    </tr>\n",
              "    <tr>\n",
              "      <th>1</th>\n",
              "      <td>1</td>\n",
              "      <td>85</td>\n",
              "      <td>66</td>\n",
              "      <td>29</td>\n",
              "      <td>0</td>\n",
              "      <td>26.6</td>\n",
              "      <td>0.351</td>\n",
              "      <td>31</td>\n",
              "      <td>0</td>\n",
              "    </tr>\n",
              "  </tbody>\n",
              "</table>\n",
              "</div>\n",
              "      <button class=\"colab-df-convert\" onclick=\"convertToInteractive('df-6464c5ac-e5fe-45d4-a456-3352b53159f7')\"\n",
              "              title=\"Convert this dataframe to an interactive table.\"\n",
              "              style=\"display:none;\">\n",
              "        \n",
              "  <svg xmlns=\"http://www.w3.org/2000/svg\" height=\"24px\"viewBox=\"0 0 24 24\"\n",
              "       width=\"24px\">\n",
              "    <path d=\"M0 0h24v24H0V0z\" fill=\"none\"/>\n",
              "    <path d=\"M18.56 5.44l.94 2.06.94-2.06 2.06-.94-2.06-.94-.94-2.06-.94 2.06-2.06.94zm-11 1L8.5 8.5l.94-2.06 2.06-.94-2.06-.94L8.5 2.5l-.94 2.06-2.06.94zm10 10l.94 2.06.94-2.06 2.06-.94-2.06-.94-.94-2.06-.94 2.06-2.06.94z\"/><path d=\"M17.41 7.96l-1.37-1.37c-.4-.4-.92-.59-1.43-.59-.52 0-1.04.2-1.43.59L10.3 9.45l-7.72 7.72c-.78.78-.78 2.05 0 2.83L4 21.41c.39.39.9.59 1.41.59.51 0 1.02-.2 1.41-.59l7.78-7.78 2.81-2.81c.8-.78.8-2.07 0-2.86zM5.41 20L4 18.59l7.72-7.72 1.47 1.35L5.41 20z\"/>\n",
              "  </svg>\n",
              "      </button>\n",
              "      \n",
              "  <style>\n",
              "    .colab-df-container {\n",
              "      display:flex;\n",
              "      flex-wrap:wrap;\n",
              "      gap: 12px;\n",
              "    }\n",
              "\n",
              "    .colab-df-convert {\n",
              "      background-color: #E8F0FE;\n",
              "      border: none;\n",
              "      border-radius: 50%;\n",
              "      cursor: pointer;\n",
              "      display: none;\n",
              "      fill: #1967D2;\n",
              "      height: 32px;\n",
              "      padding: 0 0 0 0;\n",
              "      width: 32px;\n",
              "    }\n",
              "\n",
              "    .colab-df-convert:hover {\n",
              "      background-color: #E2EBFA;\n",
              "      box-shadow: 0px 1px 2px rgba(60, 64, 67, 0.3), 0px 1px 3px 1px rgba(60, 64, 67, 0.15);\n",
              "      fill: #174EA6;\n",
              "    }\n",
              "\n",
              "    [theme=dark] .colab-df-convert {\n",
              "      background-color: #3B4455;\n",
              "      fill: #D2E3FC;\n",
              "    }\n",
              "\n",
              "    [theme=dark] .colab-df-convert:hover {\n",
              "      background-color: #434B5C;\n",
              "      box-shadow: 0px 1px 3px 1px rgba(0, 0, 0, 0.15);\n",
              "      filter: drop-shadow(0px 1px 2px rgba(0, 0, 0, 0.3));\n",
              "      fill: #FFFFFF;\n",
              "    }\n",
              "  </style>\n",
              "\n",
              "      <script>\n",
              "        const buttonEl =\n",
              "          document.querySelector('#df-6464c5ac-e5fe-45d4-a456-3352b53159f7 button.colab-df-convert');\n",
              "        buttonEl.style.display =\n",
              "          google.colab.kernel.accessAllowed ? 'block' : 'none';\n",
              "\n",
              "        async function convertToInteractive(key) {\n",
              "          const element = document.querySelector('#df-6464c5ac-e5fe-45d4-a456-3352b53159f7');\n",
              "          const dataTable =\n",
              "            await google.colab.kernel.invokeFunction('convertToInteractive',\n",
              "                                                     [key], {});\n",
              "          if (!dataTable) return;\n",
              "\n",
              "          const docLinkHtml = 'Like what you see? Visit the ' +\n",
              "            '<a target=\"_blank\" href=https://colab.research.google.com/notebooks/data_table.ipynb>data table notebook</a>'\n",
              "            + ' to learn more about interactive tables.';\n",
              "          element.innerHTML = '';\n",
              "          dataTable['output_type'] = 'display_data';\n",
              "          await google.colab.output.renderOutput(dataTable, element);\n",
              "          const docLink = document.createElement('div');\n",
              "          docLink.innerHTML = docLinkHtml;\n",
              "          element.appendChild(docLink);\n",
              "        }\n",
              "      </script>\n",
              "    </div>\n",
              "  </div>\n",
              "  "
            ]
          },
          "metadata": {},
          "execution_count": 3
        }
      ]
    },
    {
      "cell_type": "code",
      "source": [
        "y=data[\"Outcome\"]\n",
        "X=data.drop([\"Outcome\"],axis=1)"
      ],
      "metadata": {
        "id": "qupytidRyc4N"
      },
      "execution_count": 4,
      "outputs": []
    },
    {
      "cell_type": "code",
      "source": [
        "X_train,X_test,y_train,y_test=train_test_split(X,y,test_size=0.3,random_state=42)"
      ],
      "metadata": {
        "id": "dvp1XJqHymUo"
      },
      "execution_count": 5,
      "outputs": []
    },
    {
      "cell_type": "code",
      "source": [
        "def uzunluk(train,test,train_,test_):\n",
        "  print(f\"\"\"\n",
        "          shape of X_train:{train.shape}\n",
        "          shape of X_test : {test.shape}\n",
        "          shape of y_train : {train_.shape}\n",
        "          shape of y_test: {test_.shape}\n",
        "        \"\"\")\n",
        "  \n",
        "uzunluk(X_train,X_test,y_train,y_test)"
      ],
      "metadata": {
        "colab": {
          "base_uri": "https://localhost:8080/"
        },
        "id": "nejHfcaEyytg",
        "outputId": "ecc76598-0133-47fc-8b1a-f5acde025f3c"
      },
      "execution_count": 6,
      "outputs": [
        {
          "output_type": "stream",
          "name": "stdout",
          "text": [
            "\n",
            "          shape of X_train:(537, 8)\n",
            "          shape of X_test : (231, 8)\n",
            "          shape of y_train : (537,)\n",
            "          shape of y_test: (231,)\n",
            "        \n"
          ]
        }
      ]
    },
    {
      "cell_type": "markdown",
      "source": [
        "Model ve Tahmin"
      ],
      "metadata": {
        "id": "5CmFyVegy8B1"
      }
    },
    {
      "cell_type": "code",
      "source": [
        "cart_model=DecisionTreeClassifier().fit(X_train,y_train)\n",
        "cart_model.get_params()"
      ],
      "metadata": {
        "colab": {
          "base_uri": "https://localhost:8080/"
        },
        "id": "0M_Qr13ty6j9",
        "outputId": "3f21f69c-2088-4670-94cf-1040de714b7c"
      },
      "execution_count": 7,
      "outputs": [
        {
          "output_type": "execute_result",
          "data": {
            "text/plain": [
              "{'ccp_alpha': 0.0,\n",
              " 'class_weight': None,\n",
              " 'criterion': 'gini',\n",
              " 'max_depth': None,\n",
              " 'max_features': None,\n",
              " 'max_leaf_nodes': None,\n",
              " 'min_impurity_decrease': 0.0,\n",
              " 'min_samples_leaf': 1,\n",
              " 'min_samples_split': 2,\n",
              " 'min_weight_fraction_leaf': 0.0,\n",
              " 'random_state': None,\n",
              " 'splitter': 'best'}"
            ]
          },
          "metadata": {},
          "execution_count": 7
        }
      ]
    },
    {
      "cell_type": "code",
      "source": [
        "y_pred=cart_model.predict(X_test)\n",
        "print(accuracy_score(y_test,y_pred))"
      ],
      "metadata": {
        "colab": {
          "base_uri": "https://localhost:8080/"
        },
        "id": "lM8YubUcJqml",
        "outputId": "40d0c9e7-0d74-4555-fd68-7ec36d001a7b"
      },
      "execution_count": 8,
      "outputs": [
        {
          "output_type": "stream",
          "name": "stdout",
          "text": [
            "0.70995670995671\n"
          ]
        }
      ]
    },
    {
      "cell_type": "markdown",
      "source": [
        "Model Tuning"
      ],
      "metadata": {
        "id": "F8kQ2_DiKxF1"
      }
    },
    {
      "cell_type": "code",
      "source": [
        "cart=DecisionTreeClassifier()"
      ],
      "metadata": {
        "id": "1ySJqeq3KzCQ"
      },
      "execution_count": 9,
      "outputs": []
    },
    {
      "cell_type": "code",
      "source": [
        "cart_params={'max_depth':[1,3,5,8,10],\n",
        "             \"min_samples_split\": [2,3,5,10,20]}"
      ],
      "metadata": {
        "id": "2P4nfpmSJ4if"
      },
      "execution_count": 11,
      "outputs": []
    },
    {
      "cell_type": "code",
      "source": [
        "cart_cv_model=GridSearchCV(cart,cart_params,cv=10,verbose=2).fit(X_train,y_train)"
      ],
      "metadata": {
        "colab": {
          "base_uri": "https://localhost:8080/"
        },
        "id": "yWET9tfFLNqN",
        "outputId": "b678d33f-6f4e-46ef-835b-80362d73b21c"
      },
      "execution_count": 12,
      "outputs": [
        {
          "output_type": "stream",
          "name": "stdout",
          "text": [
            "Fitting 10 folds for each of 25 candidates, totalling 250 fits\n",
            "[CV] END ...................max_depth=1, min_samples_split=2; total time=   0.0s\n",
            "[CV] END ...................max_depth=1, min_samples_split=2; total time=   0.0s\n",
            "[CV] END ...................max_depth=1, min_samples_split=2; total time=   0.0s\n",
            "[CV] END ...................max_depth=1, min_samples_split=2; total time=   0.0s\n",
            "[CV] END ...................max_depth=1, min_samples_split=2; total time=   0.0s\n",
            "[CV] END ...................max_depth=1, min_samples_split=2; total time=   0.0s\n",
            "[CV] END ...................max_depth=1, min_samples_split=2; total time=   0.0s\n",
            "[CV] END ...................max_depth=1, min_samples_split=2; total time=   0.0s\n",
            "[CV] END ...................max_depth=1, min_samples_split=2; total time=   0.0s\n",
            "[CV] END ...................max_depth=1, min_samples_split=2; total time=   0.0s\n",
            "[CV] END ...................max_depth=1, min_samples_split=3; total time=   0.0s\n",
            "[CV] END ...................max_depth=1, min_samples_split=3; total time=   0.0s\n",
            "[CV] END ...................max_depth=1, min_samples_split=3; total time=   0.0s\n",
            "[CV] END ...................max_depth=1, min_samples_split=3; total time=   0.0s\n",
            "[CV] END ...................max_depth=1, min_samples_split=3; total time=   0.0s\n",
            "[CV] END ...................max_depth=1, min_samples_split=3; total time=   0.0s\n",
            "[CV] END ...................max_depth=1, min_samples_split=3; total time=   0.0s\n",
            "[CV] END ...................max_depth=1, min_samples_split=3; total time=   0.0s\n",
            "[CV] END ...................max_depth=1, min_samples_split=3; total time=   0.0s\n",
            "[CV] END ...................max_depth=1, min_samples_split=3; total time=   0.0s\n",
            "[CV] END ...................max_depth=1, min_samples_split=5; total time=   0.0s\n",
            "[CV] END ...................max_depth=1, min_samples_split=5; total time=   0.0s\n",
            "[CV] END ...................max_depth=1, min_samples_split=5; total time=   0.0s\n",
            "[CV] END ...................max_depth=1, min_samples_split=5; total time=   0.0s\n",
            "[CV] END ...................max_depth=1, min_samples_split=5; total time=   0.0s\n",
            "[CV] END ...................max_depth=1, min_samples_split=5; total time=   0.0s\n",
            "[CV] END ...................max_depth=1, min_samples_split=5; total time=   0.0s\n",
            "[CV] END ...................max_depth=1, min_samples_split=5; total time=   0.0s\n",
            "[CV] END ...................max_depth=1, min_samples_split=5; total time=   0.0s\n",
            "[CV] END ...................max_depth=1, min_samples_split=5; total time=   0.0s\n",
            "[CV] END ..................max_depth=1, min_samples_split=10; total time=   0.0s\n",
            "[CV] END ..................max_depth=1, min_samples_split=10; total time=   0.0s\n",
            "[CV] END ..................max_depth=1, min_samples_split=10; total time=   0.0s\n",
            "[CV] END ..................max_depth=1, min_samples_split=10; total time=   0.0s\n",
            "[CV] END ..................max_depth=1, min_samples_split=10; total time=   0.0s\n",
            "[CV] END ..................max_depth=1, min_samples_split=10; total time=   0.0s\n",
            "[CV] END ..................max_depth=1, min_samples_split=10; total time=   0.0s\n",
            "[CV] END ..................max_depth=1, min_samples_split=10; total time=   0.0s\n",
            "[CV] END ..................max_depth=1, min_samples_split=10; total time=   0.0s\n",
            "[CV] END ..................max_depth=1, min_samples_split=10; total time=   0.0s\n",
            "[CV] END ..................max_depth=1, min_samples_split=20; total time=   0.0s\n",
            "[CV] END ..................max_depth=1, min_samples_split=20; total time=   0.0s\n",
            "[CV] END ..................max_depth=1, min_samples_split=20; total time=   0.0s\n",
            "[CV] END ..................max_depth=1, min_samples_split=20; total time=   0.0s\n",
            "[CV] END ..................max_depth=1, min_samples_split=20; total time=   0.0s\n",
            "[CV] END ..................max_depth=1, min_samples_split=20; total time=   0.0s\n",
            "[CV] END ..................max_depth=1, min_samples_split=20; total time=   0.0s\n",
            "[CV] END ..................max_depth=1, min_samples_split=20; total time=   0.0s\n",
            "[CV] END ..................max_depth=1, min_samples_split=20; total time=   0.0s\n",
            "[CV] END ..................max_depth=1, min_samples_split=20; total time=   0.0s\n",
            "[CV] END ...................max_depth=3, min_samples_split=2; total time=   0.0s\n",
            "[CV] END ...................max_depth=3, min_samples_split=2; total time=   0.0s\n",
            "[CV] END ...................max_depth=3, min_samples_split=2; total time=   0.0s\n",
            "[CV] END ...................max_depth=3, min_samples_split=2; total time=   0.0s\n",
            "[CV] END ...................max_depth=3, min_samples_split=2; total time=   0.0s\n",
            "[CV] END ...................max_depth=3, min_samples_split=2; total time=   0.0s\n",
            "[CV] END ...................max_depth=3, min_samples_split=2; total time=   0.0s\n",
            "[CV] END ...................max_depth=3, min_samples_split=2; total time=   0.0s\n",
            "[CV] END ...................max_depth=3, min_samples_split=2; total time=   0.0s\n",
            "[CV] END ...................max_depth=3, min_samples_split=2; total time=   0.0s\n",
            "[CV] END ...................max_depth=3, min_samples_split=3; total time=   0.0s\n",
            "[CV] END ...................max_depth=3, min_samples_split=3; total time=   0.0s\n",
            "[CV] END ...................max_depth=3, min_samples_split=3; total time=   0.0s\n",
            "[CV] END ...................max_depth=3, min_samples_split=3; total time=   0.0s\n",
            "[CV] END ...................max_depth=3, min_samples_split=3; total time=   0.0s\n",
            "[CV] END ...................max_depth=3, min_samples_split=3; total time=   0.0s\n",
            "[CV] END ...................max_depth=3, min_samples_split=3; total time=   0.0s\n",
            "[CV] END ...................max_depth=3, min_samples_split=3; total time=   0.0s\n",
            "[CV] END ...................max_depth=3, min_samples_split=3; total time=   0.0s\n",
            "[CV] END ...................max_depth=3, min_samples_split=3; total time=   0.0s\n",
            "[CV] END ...................max_depth=3, min_samples_split=5; total time=   0.0s\n",
            "[CV] END ...................max_depth=3, min_samples_split=5; total time=   0.0s\n",
            "[CV] END ...................max_depth=3, min_samples_split=5; total time=   0.0s\n",
            "[CV] END ...................max_depth=3, min_samples_split=5; total time=   0.0s\n",
            "[CV] END ...................max_depth=3, min_samples_split=5; total time=   0.0s\n",
            "[CV] END ...................max_depth=3, min_samples_split=5; total time=   0.0s\n",
            "[CV] END ...................max_depth=3, min_samples_split=5; total time=   0.0s\n",
            "[CV] END ...................max_depth=3, min_samples_split=5; total time=   0.0s\n",
            "[CV] END ...................max_depth=3, min_samples_split=5; total time=   0.0s\n",
            "[CV] END ...................max_depth=3, min_samples_split=5; total time=   0.0s\n",
            "[CV] END ..................max_depth=3, min_samples_split=10; total time=   0.0s\n",
            "[CV] END ..................max_depth=3, min_samples_split=10; total time=   0.0s\n",
            "[CV] END ..................max_depth=3, min_samples_split=10; total time=   0.0s\n",
            "[CV] END ..................max_depth=3, min_samples_split=10; total time=   0.0s\n",
            "[CV] END ..................max_depth=3, min_samples_split=10; total time=   0.0s\n",
            "[CV] END ..................max_depth=3, min_samples_split=10; total time=   0.0s\n",
            "[CV] END ..................max_depth=3, min_samples_split=10; total time=   0.0s\n",
            "[CV] END ..................max_depth=3, min_samples_split=10; total time=   0.0s\n",
            "[CV] END ..................max_depth=3, min_samples_split=10; total time=   0.0s\n",
            "[CV] END ..................max_depth=3, min_samples_split=10; total time=   0.0s\n",
            "[CV] END ..................max_depth=3, min_samples_split=20; total time=   0.0s\n",
            "[CV] END ..................max_depth=3, min_samples_split=20; total time=   0.0s\n",
            "[CV] END ..................max_depth=3, min_samples_split=20; total time=   0.0s\n",
            "[CV] END ..................max_depth=3, min_samples_split=20; total time=   0.0s\n",
            "[CV] END ..................max_depth=3, min_samples_split=20; total time=   0.0s\n",
            "[CV] END ..................max_depth=3, min_samples_split=20; total time=   0.0s\n",
            "[CV] END ..................max_depth=3, min_samples_split=20; total time=   0.0s\n",
            "[CV] END ..................max_depth=3, min_samples_split=20; total time=   0.0s\n",
            "[CV] END ..................max_depth=3, min_samples_split=20; total time=   0.0s\n",
            "[CV] END ..................max_depth=3, min_samples_split=20; total time=   0.0s\n",
            "[CV] END ...................max_depth=5, min_samples_split=2; total time=   0.0s\n",
            "[CV] END ...................max_depth=5, min_samples_split=2; total time=   0.0s\n",
            "[CV] END ...................max_depth=5, min_samples_split=2; total time=   0.0s\n",
            "[CV] END ...................max_depth=5, min_samples_split=2; total time=   0.0s\n",
            "[CV] END ...................max_depth=5, min_samples_split=2; total time=   0.0s\n",
            "[CV] END ...................max_depth=5, min_samples_split=2; total time=   0.0s\n",
            "[CV] END ...................max_depth=5, min_samples_split=2; total time=   0.0s\n",
            "[CV] END ...................max_depth=5, min_samples_split=2; total time=   0.0s\n",
            "[CV] END ...................max_depth=5, min_samples_split=2; total time=   0.0s\n",
            "[CV] END ...................max_depth=5, min_samples_split=2; total time=   0.0s\n",
            "[CV] END ...................max_depth=5, min_samples_split=3; total time=   0.0s\n",
            "[CV] END ...................max_depth=5, min_samples_split=3; total time=   0.0s\n",
            "[CV] END ...................max_depth=5, min_samples_split=3; total time=   0.0s\n",
            "[CV] END ...................max_depth=5, min_samples_split=3; total time=   0.0s\n",
            "[CV] END ...................max_depth=5, min_samples_split=3; total time=   0.0s\n",
            "[CV] END ...................max_depth=5, min_samples_split=3; total time=   0.0s\n",
            "[CV] END ...................max_depth=5, min_samples_split=3; total time=   0.0s\n",
            "[CV] END ...................max_depth=5, min_samples_split=3; total time=   0.0s\n",
            "[CV] END ...................max_depth=5, min_samples_split=3; total time=   0.0s\n",
            "[CV] END ...................max_depth=5, min_samples_split=3; total time=   0.0s\n",
            "[CV] END ...................max_depth=5, min_samples_split=5; total time=   0.0s\n",
            "[CV] END ...................max_depth=5, min_samples_split=5; total time=   0.0s\n",
            "[CV] END ...................max_depth=5, min_samples_split=5; total time=   0.0s\n",
            "[CV] END ...................max_depth=5, min_samples_split=5; total time=   0.0s\n",
            "[CV] END ...................max_depth=5, min_samples_split=5; total time=   0.0s\n",
            "[CV] END ...................max_depth=5, min_samples_split=5; total time=   0.0s\n",
            "[CV] END ...................max_depth=5, min_samples_split=5; total time=   0.0s\n",
            "[CV] END ...................max_depth=5, min_samples_split=5; total time=   0.0s\n",
            "[CV] END ...................max_depth=5, min_samples_split=5; total time=   0.0s\n",
            "[CV] END ...................max_depth=5, min_samples_split=5; total time=   0.0s\n",
            "[CV] END ..................max_depth=5, min_samples_split=10; total time=   0.0s\n",
            "[CV] END ..................max_depth=5, min_samples_split=10; total time=   0.0s\n",
            "[CV] END ..................max_depth=5, min_samples_split=10; total time=   0.0s\n",
            "[CV] END ..................max_depth=5, min_samples_split=10; total time=   0.0s\n",
            "[CV] END ..................max_depth=5, min_samples_split=10; total time=   0.0s\n",
            "[CV] END ..................max_depth=5, min_samples_split=10; total time=   0.0s\n",
            "[CV] END ..................max_depth=5, min_samples_split=10; total time=   0.0s\n",
            "[CV] END ..................max_depth=5, min_samples_split=10; total time=   0.0s\n",
            "[CV] END ..................max_depth=5, min_samples_split=10; total time=   0.0s\n",
            "[CV] END ..................max_depth=5, min_samples_split=10; total time=   0.0s\n",
            "[CV] END ..................max_depth=5, min_samples_split=20; total time=   0.0s\n",
            "[CV] END ..................max_depth=5, min_samples_split=20; total time=   0.0s\n",
            "[CV] END ..................max_depth=5, min_samples_split=20; total time=   0.0s\n",
            "[CV] END ..................max_depth=5, min_samples_split=20; total time=   0.0s\n",
            "[CV] END ..................max_depth=5, min_samples_split=20; total time=   0.0s\n",
            "[CV] END ..................max_depth=5, min_samples_split=20; total time=   0.0s\n",
            "[CV] END ..................max_depth=5, min_samples_split=20; total time=   0.0s\n",
            "[CV] END ..................max_depth=5, min_samples_split=20; total time=   0.0s\n",
            "[CV] END ..................max_depth=5, min_samples_split=20; total time=   0.0s\n",
            "[CV] END ..................max_depth=5, min_samples_split=20; total time=   0.0s\n",
            "[CV] END ...................max_depth=8, min_samples_split=2; total time=   0.0s\n",
            "[CV] END ...................max_depth=8, min_samples_split=2; total time=   0.0s\n",
            "[CV] END ...................max_depth=8, min_samples_split=2; total time=   0.0s\n",
            "[CV] END ...................max_depth=8, min_samples_split=2; total time=   0.0s\n",
            "[CV] END ...................max_depth=8, min_samples_split=2; total time=   0.0s\n",
            "[CV] END ...................max_depth=8, min_samples_split=2; total time=   0.0s\n",
            "[CV] END ...................max_depth=8, min_samples_split=2; total time=   0.0s\n",
            "[CV] END ...................max_depth=8, min_samples_split=2; total time=   0.0s\n",
            "[CV] END ...................max_depth=8, min_samples_split=2; total time=   0.0s\n",
            "[CV] END ...................max_depth=8, min_samples_split=2; total time=   0.0s\n",
            "[CV] END ...................max_depth=8, min_samples_split=3; total time=   0.0s\n",
            "[CV] END ...................max_depth=8, min_samples_split=3; total time=   0.0s\n",
            "[CV] END ...................max_depth=8, min_samples_split=3; total time=   0.0s\n",
            "[CV] END ...................max_depth=8, min_samples_split=3; total time=   0.0s\n",
            "[CV] END ...................max_depth=8, min_samples_split=3; total time=   0.0s\n",
            "[CV] END ...................max_depth=8, min_samples_split=3; total time=   0.0s\n",
            "[CV] END ...................max_depth=8, min_samples_split=3; total time=   0.0s\n",
            "[CV] END ...................max_depth=8, min_samples_split=3; total time=   0.0s\n",
            "[CV] END ...................max_depth=8, min_samples_split=3; total time=   0.0s\n",
            "[CV] END ...................max_depth=8, min_samples_split=3; total time=   0.0s\n",
            "[CV] END ...................max_depth=8, min_samples_split=5; total time=   0.0s\n",
            "[CV] END ...................max_depth=8, min_samples_split=5; total time=   0.0s\n",
            "[CV] END ...................max_depth=8, min_samples_split=5; total time=   0.0s\n",
            "[CV] END ...................max_depth=8, min_samples_split=5; total time=   0.0s\n",
            "[CV] END ...................max_depth=8, min_samples_split=5; total time=   0.0s\n",
            "[CV] END ...................max_depth=8, min_samples_split=5; total time=   0.0s\n",
            "[CV] END ...................max_depth=8, min_samples_split=5; total time=   0.0s\n",
            "[CV] END ...................max_depth=8, min_samples_split=5; total time=   0.0s\n",
            "[CV] END ...................max_depth=8, min_samples_split=5; total time=   0.0s\n",
            "[CV] END ...................max_depth=8, min_samples_split=5; total time=   0.0s\n",
            "[CV] END ..................max_depth=8, min_samples_split=10; total time=   0.0s\n",
            "[CV] END ..................max_depth=8, min_samples_split=10; total time=   0.0s\n",
            "[CV] END ..................max_depth=8, min_samples_split=10; total time=   0.0s\n",
            "[CV] END ..................max_depth=8, min_samples_split=10; total time=   0.0s\n",
            "[CV] END ..................max_depth=8, min_samples_split=10; total time=   0.0s\n",
            "[CV] END ..................max_depth=8, min_samples_split=10; total time=   0.0s\n",
            "[CV] END ..................max_depth=8, min_samples_split=10; total time=   0.0s\n",
            "[CV] END ..................max_depth=8, min_samples_split=10; total time=   0.0s\n",
            "[CV] END ..................max_depth=8, min_samples_split=10; total time=   0.0s\n",
            "[CV] END ..................max_depth=8, min_samples_split=10; total time=   0.0s\n",
            "[CV] END ..................max_depth=8, min_samples_split=20; total time=   0.0s\n",
            "[CV] END ..................max_depth=8, min_samples_split=20; total time=   0.0s\n",
            "[CV] END ..................max_depth=8, min_samples_split=20; total time=   0.0s\n",
            "[CV] END ..................max_depth=8, min_samples_split=20; total time=   0.0s\n",
            "[CV] END ..................max_depth=8, min_samples_split=20; total time=   0.0s\n",
            "[CV] END ..................max_depth=8, min_samples_split=20; total time=   0.0s\n",
            "[CV] END ..................max_depth=8, min_samples_split=20; total time=   0.0s\n",
            "[CV] END ..................max_depth=8, min_samples_split=20; total time=   0.0s\n",
            "[CV] END ..................max_depth=8, min_samples_split=20; total time=   0.0s\n",
            "[CV] END ..................max_depth=8, min_samples_split=20; total time=   0.0s\n",
            "[CV] END ..................max_depth=10, min_samples_split=2; total time=   0.0s\n",
            "[CV] END ..................max_depth=10, min_samples_split=2; total time=   0.0s\n",
            "[CV] END ..................max_depth=10, min_samples_split=2; total time=   0.0s\n",
            "[CV] END ..................max_depth=10, min_samples_split=2; total time=   0.0s\n",
            "[CV] END ..................max_depth=10, min_samples_split=2; total time=   0.0s\n",
            "[CV] END ..................max_depth=10, min_samples_split=2; total time=   0.0s\n",
            "[CV] END ..................max_depth=10, min_samples_split=2; total time=   0.0s\n",
            "[CV] END ..................max_depth=10, min_samples_split=2; total time=   0.0s\n",
            "[CV] END ..................max_depth=10, min_samples_split=2; total time=   0.0s\n",
            "[CV] END ..................max_depth=10, min_samples_split=2; total time=   0.0s\n",
            "[CV] END ..................max_depth=10, min_samples_split=3; total time=   0.0s\n",
            "[CV] END ..................max_depth=10, min_samples_split=3; total time=   0.0s\n",
            "[CV] END ..................max_depth=10, min_samples_split=3; total time=   0.0s\n",
            "[CV] END ..................max_depth=10, min_samples_split=3; total time=   0.0s\n",
            "[CV] END ..................max_depth=10, min_samples_split=3; total time=   0.0s\n",
            "[CV] END ..................max_depth=10, min_samples_split=3; total time=   0.0s\n",
            "[CV] END ..................max_depth=10, min_samples_split=3; total time=   0.0s\n",
            "[CV] END ..................max_depth=10, min_samples_split=3; total time=   0.0s\n",
            "[CV] END ..................max_depth=10, min_samples_split=3; total time=   0.0s\n",
            "[CV] END ..................max_depth=10, min_samples_split=3; total time=   0.0s\n",
            "[CV] END ..................max_depth=10, min_samples_split=5; total time=   0.0s\n",
            "[CV] END ..................max_depth=10, min_samples_split=5; total time=   0.0s\n",
            "[CV] END ..................max_depth=10, min_samples_split=5; total time=   0.0s\n",
            "[CV] END ..................max_depth=10, min_samples_split=5; total time=   0.0s\n",
            "[CV] END ..................max_depth=10, min_samples_split=5; total time=   0.0s\n",
            "[CV] END ..................max_depth=10, min_samples_split=5; total time=   0.0s\n",
            "[CV] END ..................max_depth=10, min_samples_split=5; total time=   0.0s\n",
            "[CV] END ..................max_depth=10, min_samples_split=5; total time=   0.0s\n",
            "[CV] END ..................max_depth=10, min_samples_split=5; total time=   0.0s\n",
            "[CV] END ..................max_depth=10, min_samples_split=5; total time=   0.0s\n",
            "[CV] END .................max_depth=10, min_samples_split=10; total time=   0.0s\n",
            "[CV] END .................max_depth=10, min_samples_split=10; total time=   0.0s\n",
            "[CV] END .................max_depth=10, min_samples_split=10; total time=   0.0s\n",
            "[CV] END .................max_depth=10, min_samples_split=10; total time=   0.0s\n",
            "[CV] END .................max_depth=10, min_samples_split=10; total time=   0.0s\n",
            "[CV] END .................max_depth=10, min_samples_split=10; total time=   0.0s\n",
            "[CV] END .................max_depth=10, min_samples_split=10; total time=   0.0s\n",
            "[CV] END .................max_depth=10, min_samples_split=10; total time=   0.0s\n",
            "[CV] END .................max_depth=10, min_samples_split=10; total time=   0.0s\n",
            "[CV] END .................max_depth=10, min_samples_split=10; total time=   0.0s\n",
            "[CV] END .................max_depth=10, min_samples_split=20; total time=   0.0s\n",
            "[CV] END .................max_depth=10, min_samples_split=20; total time=   0.0s\n",
            "[CV] END .................max_depth=10, min_samples_split=20; total time=   0.0s\n",
            "[CV] END .................max_depth=10, min_samples_split=20; total time=   0.0s\n",
            "[CV] END .................max_depth=10, min_samples_split=20; total time=   0.0s\n",
            "[CV] END .................max_depth=10, min_samples_split=20; total time=   0.0s\n",
            "[CV] END .................max_depth=10, min_samples_split=20; total time=   0.0s\n",
            "[CV] END .................max_depth=10, min_samples_split=20; total time=   0.0s\n",
            "[CV] END .................max_depth=10, min_samples_split=20; total time=   0.0s\n",
            "[CV] END .................max_depth=10, min_samples_split=20; total time=   0.0s\n"
          ]
        }
      ]
    },
    {
      "cell_type": "code",
      "source": [
        "cart_cv_model.best_score_"
      ],
      "metadata": {
        "colab": {
          "base_uri": "https://localhost:8080/"
        },
        "id": "wZKRzh2uLpvr",
        "outputId": "378ddac9-d840-44f2-886e-9d3e84978649"
      },
      "execution_count": 13,
      "outputs": [
        {
          "output_type": "execute_result",
          "data": {
            "text/plain": [
              "0.763487071977638"
            ]
          },
          "metadata": {},
          "execution_count": 13
        }
      ]
    },
    {
      "cell_type": "code",
      "source": [
        "cart_cv_model.best_params_"
      ],
      "metadata": {
        "colab": {
          "base_uri": "https://localhost:8080/"
        },
        "id": "r9GkGBOrLtpi",
        "outputId": "4972b784-75b3-47a1-e265-3518746b4a3c"
      },
      "execution_count": 14,
      "outputs": [
        {
          "output_type": "execute_result",
          "data": {
            "text/plain": [
              "{'max_depth': 5, 'min_samples_split': 20}"
            ]
          },
          "metadata": {},
          "execution_count": 14
        }
      ]
    },
    {
      "cell_type": "code",
      "source": [
        "cart_tuned=DecisionTreeClassifier(max_depth=5, min_samples_split=20).fit(X_train,y_train)\n",
        "y_pred=cart_tuned.predict(X_test)\n",
        "print(accuracy_score(y_test,y_pred))"
      ],
      "metadata": {
        "colab": {
          "base_uri": "https://localhost:8080/"
        },
        "id": "eawitwbVLxw4",
        "outputId": "8cd43e36-c324-4db0-d85b-790dcaf020d4"
      },
      "execution_count": 17,
      "outputs": [
        {
          "output_type": "stream",
          "name": "stdout",
          "text": [
            "0.7532467532467533\n"
          ]
        }
      ]
    },
    {
      "cell_type": "markdown",
      "source": [
        "Random Forests Model ve Tahmin"
      ],
      "metadata": {
        "id": "VSS_0yP5MRpG"
      }
    },
    {
      "cell_type": "code",
      "source": [
        "rf_model=RandomForestClassifier().fit(X_train,y_train)\n",
        "rf_model.get_params()"
      ],
      "metadata": {
        "colab": {
          "base_uri": "https://localhost:8080/"
        },
        "id": "c5R3H4CXMPlR",
        "outputId": "c098a02b-2a26-4b30-b9c7-dc98a0de32ab"
      },
      "execution_count": 18,
      "outputs": [
        {
          "output_type": "execute_result",
          "data": {
            "text/plain": [
              "{'bootstrap': True,\n",
              " 'ccp_alpha': 0.0,\n",
              " 'class_weight': None,\n",
              " 'criterion': 'gini',\n",
              " 'max_depth': None,\n",
              " 'max_features': 'auto',\n",
              " 'max_leaf_nodes': None,\n",
              " 'max_samples': None,\n",
              " 'min_impurity_decrease': 0.0,\n",
              " 'min_samples_leaf': 1,\n",
              " 'min_samples_split': 2,\n",
              " 'min_weight_fraction_leaf': 0.0,\n",
              " 'n_estimators': 100,\n",
              " 'n_jobs': None,\n",
              " 'oob_score': False,\n",
              " 'random_state': None,\n",
              " 'verbose': 0,\n",
              " 'warm_start': False}"
            ]
          },
          "metadata": {},
          "execution_count": 18
        }
      ]
    },
    {
      "cell_type": "code",
      "source": [
        "y_pred=rf_model.predict(X_test)\n",
        "accuracy_score(y_test,y_pred)"
      ],
      "metadata": {
        "colab": {
          "base_uri": "https://localhost:8080/"
        },
        "id": "xIgI2g20P35O",
        "outputId": "8238eba8-307c-451d-9daf-1d54b7006944"
      },
      "execution_count": 20,
      "outputs": [
        {
          "output_type": "execute_result",
          "data": {
            "text/plain": [
              "0.7619047619047619"
            ]
          },
          "metadata": {},
          "execution_count": 20
        }
      ]
    },
    {
      "cell_type": "markdown",
      "source": [
        "Tuning"
      ],
      "metadata": {
        "id": "zvIRT41vQqPq"
      }
    },
    {
      "cell_type": "code",
      "source": [
        "rfmodel=RandomForestClassifier()"
      ],
      "metadata": {
        "id": "x5Nh47SnQKa7"
      },
      "execution_count": 21,
      "outputs": []
    },
    {
      "cell_type": "code",
      "source": [
        "rf_params={'max_depth': [100,200,500,1000],'max_features': [3,5,7,8],\n",
        "           \"min_samples_split\" : [2,5,10,20]}\n",
        "##max_features'ta en son 8 alabildik çünkü değişken sayısı 8 zaten "
      ],
      "metadata": {
        "id": "nbiAgLlqQxnm"
      },
      "execution_count": 22,
      "outputs": []
    },
    {
      "cell_type": "code",
      "source": [
        "rf_cv_model=GridSearchCV(rfmodel,rf_params,verbose=2).fit(X_train,y_train)"
      ],
      "metadata": {
        "colab": {
          "base_uri": "https://localhost:8080/"
        },
        "id": "pZc6VtnhRsTy",
        "outputId": "18bc5dd4-baba-4601-a269-06da8e0fa6a7"
      },
      "execution_count": 23,
      "outputs": [
        {
          "output_type": "stream",
          "name": "stdout",
          "text": [
            "Fitting 5 folds for each of 64 candidates, totalling 320 fits\n",
            "[CV] END .max_depth=100, max_features=3, min_samples_split=2; total time=   0.3s\n",
            "[CV] END .max_depth=100, max_features=3, min_samples_split=2; total time=   0.2s\n",
            "[CV] END .max_depth=100, max_features=3, min_samples_split=2; total time=   0.2s\n",
            "[CV] END .max_depth=100, max_features=3, min_samples_split=2; total time=   0.2s\n",
            "[CV] END .max_depth=100, max_features=3, min_samples_split=2; total time=   0.2s\n",
            "[CV] END .max_depth=100, max_features=3, min_samples_split=5; total time=   0.2s\n",
            "[CV] END .max_depth=100, max_features=3, min_samples_split=5; total time=   0.2s\n",
            "[CV] END .max_depth=100, max_features=3, min_samples_split=5; total time=   0.2s\n",
            "[CV] END .max_depth=100, max_features=3, min_samples_split=5; total time=   0.2s\n",
            "[CV] END .max_depth=100, max_features=3, min_samples_split=5; total time=   0.2s\n",
            "[CV] END max_depth=100, max_features=3, min_samples_split=10; total time=   0.2s\n",
            "[CV] END max_depth=100, max_features=3, min_samples_split=10; total time=   0.2s\n",
            "[CV] END max_depth=100, max_features=3, min_samples_split=10; total time=   0.2s\n",
            "[CV] END max_depth=100, max_features=3, min_samples_split=10; total time=   0.2s\n",
            "[CV] END max_depth=100, max_features=3, min_samples_split=10; total time=   0.2s\n",
            "[CV] END max_depth=100, max_features=3, min_samples_split=20; total time=   0.2s\n",
            "[CV] END max_depth=100, max_features=3, min_samples_split=20; total time=   0.2s\n",
            "[CV] END max_depth=100, max_features=3, min_samples_split=20; total time=   0.2s\n",
            "[CV] END max_depth=100, max_features=3, min_samples_split=20; total time=   0.2s\n",
            "[CV] END max_depth=100, max_features=3, min_samples_split=20; total time=   0.2s\n",
            "[CV] END .max_depth=100, max_features=5, min_samples_split=2; total time=   0.2s\n",
            "[CV] END .max_depth=100, max_features=5, min_samples_split=2; total time=   0.2s\n",
            "[CV] END .max_depth=100, max_features=5, min_samples_split=2; total time=   0.2s\n",
            "[CV] END .max_depth=100, max_features=5, min_samples_split=2; total time=   0.4s\n",
            "[CV] END .max_depth=100, max_features=5, min_samples_split=2; total time=   0.4s\n",
            "[CV] END .max_depth=100, max_features=5, min_samples_split=5; total time=   0.4s\n",
            "[CV] END .max_depth=100, max_features=5, min_samples_split=5; total time=   0.4s\n",
            "[CV] END .max_depth=100, max_features=5, min_samples_split=5; total time=   0.4s\n",
            "[CV] END .max_depth=100, max_features=5, min_samples_split=5; total time=   0.4s\n",
            "[CV] END .max_depth=100, max_features=5, min_samples_split=5; total time=   0.4s\n",
            "[CV] END max_depth=100, max_features=5, min_samples_split=10; total time=   0.4s\n",
            "[CV] END max_depth=100, max_features=5, min_samples_split=10; total time=   0.2s\n",
            "[CV] END max_depth=100, max_features=5, min_samples_split=10; total time=   0.2s\n",
            "[CV] END max_depth=100, max_features=5, min_samples_split=10; total time=   0.2s\n",
            "[CV] END max_depth=100, max_features=5, min_samples_split=10; total time=   0.2s\n",
            "[CV] END max_depth=100, max_features=5, min_samples_split=20; total time=   0.2s\n",
            "[CV] END max_depth=100, max_features=5, min_samples_split=20; total time=   0.2s\n",
            "[CV] END max_depth=100, max_features=5, min_samples_split=20; total time=   0.2s\n",
            "[CV] END max_depth=100, max_features=5, min_samples_split=20; total time=   0.2s\n",
            "[CV] END max_depth=100, max_features=5, min_samples_split=20; total time=   0.2s\n",
            "[CV] END .max_depth=100, max_features=7, min_samples_split=2; total time=   0.3s\n",
            "[CV] END .max_depth=100, max_features=7, min_samples_split=2; total time=   0.2s\n",
            "[CV] END .max_depth=100, max_features=7, min_samples_split=2; total time=   0.3s\n",
            "[CV] END .max_depth=100, max_features=7, min_samples_split=2; total time=   0.3s\n",
            "[CV] END .max_depth=100, max_features=7, min_samples_split=2; total time=   0.3s\n",
            "[CV] END .max_depth=100, max_features=7, min_samples_split=5; total time=   0.3s\n",
            "[CV] END .max_depth=100, max_features=7, min_samples_split=5; total time=   0.3s\n",
            "[CV] END .max_depth=100, max_features=7, min_samples_split=5; total time=   0.3s\n",
            "[CV] END .max_depth=100, max_features=7, min_samples_split=5; total time=   0.3s\n",
            "[CV] END .max_depth=100, max_features=7, min_samples_split=5; total time=   0.3s\n",
            "[CV] END max_depth=100, max_features=7, min_samples_split=10; total time=   0.3s\n",
            "[CV] END max_depth=100, max_features=7, min_samples_split=10; total time=   0.3s\n",
            "[CV] END max_depth=100, max_features=7, min_samples_split=10; total time=   0.3s\n",
            "[CV] END max_depth=100, max_features=7, min_samples_split=10; total time=   0.3s\n",
            "[CV] END max_depth=100, max_features=7, min_samples_split=10; total time=   0.3s\n",
            "[CV] END max_depth=100, max_features=7, min_samples_split=20; total time=   0.3s\n",
            "[CV] END max_depth=100, max_features=7, min_samples_split=20; total time=   0.2s\n",
            "[CV] END max_depth=100, max_features=7, min_samples_split=20; total time=   0.3s\n",
            "[CV] END max_depth=100, max_features=7, min_samples_split=20; total time=   0.3s\n",
            "[CV] END max_depth=100, max_features=7, min_samples_split=20; total time=   0.2s\n",
            "[CV] END .max_depth=100, max_features=8, min_samples_split=2; total time=   0.3s\n",
            "[CV] END .max_depth=100, max_features=8, min_samples_split=2; total time=   0.3s\n",
            "[CV] END .max_depth=100, max_features=8, min_samples_split=2; total time=   0.3s\n",
            "[CV] END .max_depth=100, max_features=8, min_samples_split=2; total time=   0.3s\n",
            "[CV] END .max_depth=100, max_features=8, min_samples_split=2; total time=   0.3s\n",
            "[CV] END .max_depth=100, max_features=8, min_samples_split=5; total time=   0.3s\n",
            "[CV] END .max_depth=100, max_features=8, min_samples_split=5; total time=   0.3s\n",
            "[CV] END .max_depth=100, max_features=8, min_samples_split=5; total time=   0.3s\n",
            "[CV] END .max_depth=100, max_features=8, min_samples_split=5; total time=   0.3s\n",
            "[CV] END .max_depth=100, max_features=8, min_samples_split=5; total time=   0.3s\n",
            "[CV] END max_depth=100, max_features=8, min_samples_split=10; total time=   0.3s\n",
            "[CV] END max_depth=100, max_features=8, min_samples_split=10; total time=   0.3s\n",
            "[CV] END max_depth=100, max_features=8, min_samples_split=10; total time=   0.3s\n",
            "[CV] END max_depth=100, max_features=8, min_samples_split=10; total time=   0.4s\n",
            "[CV] END max_depth=100, max_features=8, min_samples_split=10; total time=   0.3s\n",
            "[CV] END max_depth=100, max_features=8, min_samples_split=20; total time=   0.3s\n",
            "[CV] END max_depth=100, max_features=8, min_samples_split=20; total time=   0.3s\n",
            "[CV] END max_depth=100, max_features=8, min_samples_split=20; total time=   0.3s\n",
            "[CV] END max_depth=100, max_features=8, min_samples_split=20; total time=   0.3s\n",
            "[CV] END max_depth=100, max_features=8, min_samples_split=20; total time=   0.4s\n",
            "[CV] END .max_depth=200, max_features=3, min_samples_split=2; total time=   0.3s\n",
            "[CV] END .max_depth=200, max_features=3, min_samples_split=2; total time=   0.2s\n",
            "[CV] END .max_depth=200, max_features=3, min_samples_split=2; total time=   0.2s\n",
            "[CV] END .max_depth=200, max_features=3, min_samples_split=2; total time=   0.3s\n",
            "[CV] END .max_depth=200, max_features=3, min_samples_split=2; total time=   0.2s\n",
            "[CV] END .max_depth=200, max_features=3, min_samples_split=5; total time=   0.3s\n",
            "[CV] END .max_depth=200, max_features=3, min_samples_split=5; total time=   0.4s\n",
            "[CV] END .max_depth=200, max_features=3, min_samples_split=5; total time=   0.2s\n",
            "[CV] END .max_depth=200, max_features=3, min_samples_split=5; total time=   0.3s\n",
            "[CV] END .max_depth=200, max_features=3, min_samples_split=5; total time=   0.2s\n",
            "[CV] END max_depth=200, max_features=3, min_samples_split=10; total time=   0.2s\n",
            "[CV] END max_depth=200, max_features=3, min_samples_split=10; total time=   0.2s\n",
            "[CV] END max_depth=200, max_features=3, min_samples_split=10; total time=   0.3s\n",
            "[CV] END max_depth=200, max_features=3, min_samples_split=10; total time=   0.3s\n",
            "[CV] END max_depth=200, max_features=3, min_samples_split=10; total time=   0.3s\n",
            "[CV] END max_depth=200, max_features=3, min_samples_split=20; total time=   0.4s\n",
            "[CV] END max_depth=200, max_features=3, min_samples_split=20; total time=   0.3s\n",
            "[CV] END max_depth=200, max_features=3, min_samples_split=20; total time=   0.2s\n",
            "[CV] END max_depth=200, max_features=3, min_samples_split=20; total time=   0.3s\n",
            "[CV] END max_depth=200, max_features=3, min_samples_split=20; total time=   0.4s\n",
            "[CV] END .max_depth=200, max_features=5, min_samples_split=2; total time=   0.4s\n",
            "[CV] END .max_depth=200, max_features=5, min_samples_split=2; total time=   0.2s\n",
            "[CV] END .max_depth=200, max_features=5, min_samples_split=2; total time=   0.4s\n",
            "[CV] END .max_depth=200, max_features=5, min_samples_split=2; total time=   0.3s\n",
            "[CV] END .max_depth=200, max_features=5, min_samples_split=2; total time=   0.3s\n",
            "[CV] END .max_depth=200, max_features=5, min_samples_split=5; total time=   0.3s\n",
            "[CV] END .max_depth=200, max_features=5, min_samples_split=5; total time=   0.4s\n",
            "[CV] END .max_depth=200, max_features=5, min_samples_split=5; total time=   0.4s\n",
            "[CV] END .max_depth=200, max_features=5, min_samples_split=5; total time=   0.7s\n",
            "[CV] END .max_depth=200, max_features=5, min_samples_split=5; total time=   0.2s\n",
            "[CV] END max_depth=200, max_features=5, min_samples_split=10; total time=   0.2s\n",
            "[CV] END max_depth=200, max_features=5, min_samples_split=10; total time=   0.3s\n",
            "[CV] END max_depth=200, max_features=5, min_samples_split=10; total time=   0.2s\n",
            "[CV] END max_depth=200, max_features=5, min_samples_split=10; total time=   0.2s\n",
            "[CV] END max_depth=200, max_features=5, min_samples_split=10; total time=   0.3s\n",
            "[CV] END max_depth=200, max_features=5, min_samples_split=20; total time=   0.2s\n",
            "[CV] END max_depth=200, max_features=5, min_samples_split=20; total time=   0.2s\n",
            "[CV] END max_depth=200, max_features=5, min_samples_split=20; total time=   0.5s\n",
            "[CV] END max_depth=200, max_features=5, min_samples_split=20; total time=   0.4s\n",
            "[CV] END max_depth=200, max_features=5, min_samples_split=20; total time=   0.3s\n",
            "[CV] END .max_depth=200, max_features=7, min_samples_split=2; total time=   0.3s\n",
            "[CV] END .max_depth=200, max_features=7, min_samples_split=2; total time=   0.3s\n",
            "[CV] END .max_depth=200, max_features=7, min_samples_split=2; total time=   0.3s\n",
            "[CV] END .max_depth=200, max_features=7, min_samples_split=2; total time=   0.3s\n",
            "[CV] END .max_depth=200, max_features=7, min_samples_split=2; total time=   0.3s\n",
            "[CV] END .max_depth=200, max_features=7, min_samples_split=5; total time=   0.3s\n",
            "[CV] END .max_depth=200, max_features=7, min_samples_split=5; total time=   0.3s\n",
            "[CV] END .max_depth=200, max_features=7, min_samples_split=5; total time=   0.4s\n",
            "[CV] END .max_depth=200, max_features=7, min_samples_split=5; total time=   0.3s\n",
            "[CV] END .max_depth=200, max_features=7, min_samples_split=5; total time=   0.3s\n",
            "[CV] END max_depth=200, max_features=7, min_samples_split=10; total time=   0.3s\n",
            "[CV] END max_depth=200, max_features=7, min_samples_split=10; total time=   0.3s\n",
            "[CV] END max_depth=200, max_features=7, min_samples_split=10; total time=   0.3s\n",
            "[CV] END max_depth=200, max_features=7, min_samples_split=10; total time=   0.3s\n",
            "[CV] END max_depth=200, max_features=7, min_samples_split=10; total time=   0.3s\n",
            "[CV] END max_depth=200, max_features=7, min_samples_split=20; total time=   0.3s\n",
            "[CV] END max_depth=200, max_features=7, min_samples_split=20; total time=   0.4s\n",
            "[CV] END max_depth=200, max_features=7, min_samples_split=20; total time=   0.3s\n",
            "[CV] END max_depth=200, max_features=7, min_samples_split=20; total time=   0.3s\n",
            "[CV] END max_depth=200, max_features=7, min_samples_split=20; total time=   0.3s\n",
            "[CV] END .max_depth=200, max_features=8, min_samples_split=2; total time=   0.3s\n",
            "[CV] END .max_depth=200, max_features=8, min_samples_split=2; total time=   0.3s\n",
            "[CV] END .max_depth=200, max_features=8, min_samples_split=2; total time=   0.3s\n",
            "[CV] END .max_depth=200, max_features=8, min_samples_split=2; total time=   0.6s\n",
            "[CV] END .max_depth=200, max_features=8, min_samples_split=2; total time=   0.3s\n",
            "[CV] END .max_depth=200, max_features=8, min_samples_split=5; total time=   0.3s\n",
            "[CV] END .max_depth=200, max_features=8, min_samples_split=5; total time=   0.3s\n",
            "[CV] END .max_depth=200, max_features=8, min_samples_split=5; total time=   0.3s\n",
            "[CV] END .max_depth=200, max_features=8, min_samples_split=5; total time=   0.3s\n",
            "[CV] END .max_depth=200, max_features=8, min_samples_split=5; total time=   0.3s\n",
            "[CV] END max_depth=200, max_features=8, min_samples_split=10; total time=   0.3s\n",
            "[CV] END max_depth=200, max_features=8, min_samples_split=10; total time=   0.4s\n",
            "[CV] END max_depth=200, max_features=8, min_samples_split=10; total time=   0.3s\n",
            "[CV] END max_depth=200, max_features=8, min_samples_split=10; total time=   0.3s\n",
            "[CV] END max_depth=200, max_features=8, min_samples_split=10; total time=   0.3s\n",
            "[CV] END max_depth=200, max_features=8, min_samples_split=20; total time=   0.4s\n",
            "[CV] END max_depth=200, max_features=8, min_samples_split=20; total time=   0.6s\n",
            "[CV] END max_depth=200, max_features=8, min_samples_split=20; total time=   0.3s\n",
            "[CV] END max_depth=200, max_features=8, min_samples_split=20; total time=   0.3s\n",
            "[CV] END max_depth=200, max_features=8, min_samples_split=20; total time=   0.2s\n",
            "[CV] END .max_depth=500, max_features=3, min_samples_split=2; total time=   0.2s\n",
            "[CV] END .max_depth=500, max_features=3, min_samples_split=2; total time=   0.3s\n",
            "[CV] END .max_depth=500, max_features=3, min_samples_split=2; total time=   0.2s\n",
            "[CV] END .max_depth=500, max_features=3, min_samples_split=2; total time=   0.2s\n",
            "[CV] END .max_depth=500, max_features=3, min_samples_split=2; total time=   0.2s\n",
            "[CV] END .max_depth=500, max_features=3, min_samples_split=5; total time=   0.3s\n",
            "[CV] END .max_depth=500, max_features=3, min_samples_split=5; total time=   0.2s\n",
            "[CV] END .max_depth=500, max_features=3, min_samples_split=5; total time=   0.4s\n",
            "[CV] END .max_depth=500, max_features=3, min_samples_split=5; total time=   0.4s\n",
            "[CV] END .max_depth=500, max_features=3, min_samples_split=5; total time=   0.3s\n",
            "[CV] END max_depth=500, max_features=3, min_samples_split=10; total time=   0.2s\n",
            "[CV] END max_depth=500, max_features=3, min_samples_split=10; total time=   0.2s\n",
            "[CV] END max_depth=500, max_features=3, min_samples_split=10; total time=   0.2s\n",
            "[CV] END max_depth=500, max_features=3, min_samples_split=10; total time=   0.2s\n",
            "[CV] END max_depth=500, max_features=3, min_samples_split=10; total time=   0.2s\n",
            "[CV] END max_depth=500, max_features=3, min_samples_split=20; total time=   0.4s\n",
            "[CV] END max_depth=500, max_features=3, min_samples_split=20; total time=   0.4s\n",
            "[CV] END max_depth=500, max_features=3, min_samples_split=20; total time=   0.2s\n",
            "[CV] END max_depth=500, max_features=3, min_samples_split=20; total time=   0.2s\n",
            "[CV] END max_depth=500, max_features=3, min_samples_split=20; total time=   0.2s\n",
            "[CV] END .max_depth=500, max_features=5, min_samples_split=2; total time=   0.4s\n",
            "[CV] END .max_depth=500, max_features=5, min_samples_split=2; total time=   0.4s\n",
            "[CV] END .max_depth=500, max_features=5, min_samples_split=2; total time=   0.2s\n",
            "[CV] END .max_depth=500, max_features=5, min_samples_split=2; total time=   0.2s\n",
            "[CV] END .max_depth=500, max_features=5, min_samples_split=2; total time=   0.3s\n",
            "[CV] END .max_depth=500, max_features=5, min_samples_split=5; total time=   0.2s\n",
            "[CV] END .max_depth=500, max_features=5, min_samples_split=5; total time=   0.2s\n",
            "[CV] END .max_depth=500, max_features=5, min_samples_split=5; total time=   0.2s\n",
            "[CV] END .max_depth=500, max_features=5, min_samples_split=5; total time=   0.3s\n",
            "[CV] END .max_depth=500, max_features=5, min_samples_split=5; total time=   0.2s\n",
            "[CV] END max_depth=500, max_features=5, min_samples_split=10; total time=   0.2s\n",
            "[CV] END max_depth=500, max_features=5, min_samples_split=10; total time=   0.2s\n",
            "[CV] END max_depth=500, max_features=5, min_samples_split=10; total time=   0.2s\n",
            "[CV] END max_depth=500, max_features=5, min_samples_split=10; total time=   0.2s\n",
            "[CV] END max_depth=500, max_features=5, min_samples_split=10; total time=   0.2s\n",
            "[CV] END max_depth=500, max_features=5, min_samples_split=20; total time=   0.2s\n",
            "[CV] END max_depth=500, max_features=5, min_samples_split=20; total time=   0.2s\n",
            "[CV] END max_depth=500, max_features=5, min_samples_split=20; total time=   0.2s\n",
            "[CV] END max_depth=500, max_features=5, min_samples_split=20; total time=   0.3s\n",
            "[CV] END max_depth=500, max_features=5, min_samples_split=20; total time=   0.4s\n",
            "[CV] END .max_depth=500, max_features=7, min_samples_split=2; total time=   0.4s\n",
            "[CV] END .max_depth=500, max_features=7, min_samples_split=2; total time=   0.2s\n",
            "[CV] END .max_depth=500, max_features=7, min_samples_split=2; total time=   0.3s\n",
            "[CV] END .max_depth=500, max_features=7, min_samples_split=2; total time=   0.3s\n",
            "[CV] END .max_depth=500, max_features=7, min_samples_split=2; total time=   0.3s\n",
            "[CV] END .max_depth=500, max_features=7, min_samples_split=5; total time=   0.3s\n",
            "[CV] END .max_depth=500, max_features=7, min_samples_split=5; total time=   0.2s\n",
            "[CV] END .max_depth=500, max_features=7, min_samples_split=5; total time=   0.3s\n",
            "[CV] END .max_depth=500, max_features=7, min_samples_split=5; total time=   0.3s\n",
            "[CV] END .max_depth=500, max_features=7, min_samples_split=5; total time=   0.3s\n",
            "[CV] END max_depth=500, max_features=7, min_samples_split=10; total time=   0.3s\n",
            "[CV] END max_depth=500, max_features=7, min_samples_split=10; total time=   0.3s\n",
            "[CV] END max_depth=500, max_features=7, min_samples_split=10; total time=   0.3s\n",
            "[CV] END max_depth=500, max_features=7, min_samples_split=10; total time=   0.3s\n",
            "[CV] END max_depth=500, max_features=7, min_samples_split=10; total time=   0.3s\n",
            "[CV] END max_depth=500, max_features=7, min_samples_split=20; total time=   0.3s\n",
            "[CV] END max_depth=500, max_features=7, min_samples_split=20; total time=   0.2s\n",
            "[CV] END max_depth=500, max_features=7, min_samples_split=20; total time=   0.2s\n",
            "[CV] END max_depth=500, max_features=7, min_samples_split=20; total time=   0.2s\n",
            "[CV] END max_depth=500, max_features=7, min_samples_split=20; total time=   0.3s\n",
            "[CV] END .max_depth=500, max_features=8, min_samples_split=2; total time=   0.3s\n",
            "[CV] END .max_depth=500, max_features=8, min_samples_split=2; total time=   0.3s\n",
            "[CV] END .max_depth=500, max_features=8, min_samples_split=2; total time=   0.3s\n",
            "[CV] END .max_depth=500, max_features=8, min_samples_split=2; total time=   0.3s\n",
            "[CV] END .max_depth=500, max_features=8, min_samples_split=2; total time=   0.3s\n",
            "[CV] END .max_depth=500, max_features=8, min_samples_split=5; total time=   0.3s\n",
            "[CV] END .max_depth=500, max_features=8, min_samples_split=5; total time=   0.3s\n",
            "[CV] END .max_depth=500, max_features=8, min_samples_split=5; total time=   0.3s\n",
            "[CV] END .max_depth=500, max_features=8, min_samples_split=5; total time=   0.3s\n",
            "[CV] END .max_depth=500, max_features=8, min_samples_split=5; total time=   0.3s\n",
            "[CV] END max_depth=500, max_features=8, min_samples_split=10; total time=   0.3s\n",
            "[CV] END max_depth=500, max_features=8, min_samples_split=10; total time=   0.3s\n",
            "[CV] END max_depth=500, max_features=8, min_samples_split=10; total time=   0.3s\n",
            "[CV] END max_depth=500, max_features=8, min_samples_split=10; total time=   0.3s\n",
            "[CV] END max_depth=500, max_features=8, min_samples_split=10; total time=   0.3s\n",
            "[CV] END max_depth=500, max_features=8, min_samples_split=20; total time=   0.3s\n",
            "[CV] END max_depth=500, max_features=8, min_samples_split=20; total time=   0.2s\n",
            "[CV] END max_depth=500, max_features=8, min_samples_split=20; total time=   0.3s\n",
            "[CV] END max_depth=500, max_features=8, min_samples_split=20; total time=   0.3s\n",
            "[CV] END max_depth=500, max_features=8, min_samples_split=20; total time=   0.3s\n",
            "[CV] END max_depth=1000, max_features=3, min_samples_split=2; total time=   0.2s\n",
            "[CV] END max_depth=1000, max_features=3, min_samples_split=2; total time=   0.2s\n",
            "[CV] END max_depth=1000, max_features=3, min_samples_split=2; total time=   0.2s\n",
            "[CV] END max_depth=1000, max_features=3, min_samples_split=2; total time=   0.2s\n",
            "[CV] END max_depth=1000, max_features=3, min_samples_split=2; total time=   0.2s\n",
            "[CV] END max_depth=1000, max_features=3, min_samples_split=5; total time=   0.2s\n",
            "[CV] END max_depth=1000, max_features=3, min_samples_split=5; total time=   0.2s\n",
            "[CV] END max_depth=1000, max_features=3, min_samples_split=5; total time=   0.2s\n",
            "[CV] END max_depth=1000, max_features=3, min_samples_split=5; total time=   0.2s\n",
            "[CV] END max_depth=1000, max_features=3, min_samples_split=5; total time=   0.2s\n",
            "[CV] END max_depth=1000, max_features=3, min_samples_split=10; total time=   0.2s\n",
            "[CV] END max_depth=1000, max_features=3, min_samples_split=10; total time=   0.2s\n",
            "[CV] END max_depth=1000, max_features=3, min_samples_split=10; total time=   0.2s\n",
            "[CV] END max_depth=1000, max_features=3, min_samples_split=10; total time=   0.2s\n",
            "[CV] END max_depth=1000, max_features=3, min_samples_split=10; total time=   0.2s\n",
            "[CV] END max_depth=1000, max_features=3, min_samples_split=20; total time=   0.2s\n",
            "[CV] END max_depth=1000, max_features=3, min_samples_split=20; total time=   0.2s\n",
            "[CV] END max_depth=1000, max_features=3, min_samples_split=20; total time=   0.2s\n",
            "[CV] END max_depth=1000, max_features=3, min_samples_split=20; total time=   0.2s\n",
            "[CV] END max_depth=1000, max_features=3, min_samples_split=20; total time=   0.2s\n",
            "[CV] END max_depth=1000, max_features=5, min_samples_split=2; total time=   0.2s\n",
            "[CV] END max_depth=1000, max_features=5, min_samples_split=2; total time=   0.2s\n",
            "[CV] END max_depth=1000, max_features=5, min_samples_split=2; total time=   0.3s\n",
            "[CV] END max_depth=1000, max_features=5, min_samples_split=2; total time=   0.2s\n",
            "[CV] END max_depth=1000, max_features=5, min_samples_split=2; total time=   0.2s\n",
            "[CV] END max_depth=1000, max_features=5, min_samples_split=5; total time=   0.2s\n",
            "[CV] END max_depth=1000, max_features=5, min_samples_split=5; total time=   0.2s\n",
            "[CV] END max_depth=1000, max_features=5, min_samples_split=5; total time=   0.3s\n",
            "[CV] END max_depth=1000, max_features=5, min_samples_split=5; total time=   0.2s\n",
            "[CV] END max_depth=1000, max_features=5, min_samples_split=5; total time=   0.2s\n",
            "[CV] END max_depth=1000, max_features=5, min_samples_split=10; total time=   0.2s\n",
            "[CV] END max_depth=1000, max_features=5, min_samples_split=10; total time=   0.2s\n",
            "[CV] END max_depth=1000, max_features=5, min_samples_split=10; total time=   0.2s\n",
            "[CV] END max_depth=1000, max_features=5, min_samples_split=10; total time=   0.3s\n",
            "[CV] END max_depth=1000, max_features=5, min_samples_split=10; total time=   0.2s\n",
            "[CV] END max_depth=1000, max_features=5, min_samples_split=20; total time=   0.2s\n",
            "[CV] END max_depth=1000, max_features=5, min_samples_split=20; total time=   0.2s\n",
            "[CV] END max_depth=1000, max_features=5, min_samples_split=20; total time=   0.2s\n",
            "[CV] END max_depth=1000, max_features=5, min_samples_split=20; total time=   0.2s\n",
            "[CV] END max_depth=1000, max_features=5, min_samples_split=20; total time=   0.2s\n",
            "[CV] END max_depth=1000, max_features=7, min_samples_split=2; total time=   0.3s\n",
            "[CV] END max_depth=1000, max_features=7, min_samples_split=2; total time=   0.2s\n",
            "[CV] END max_depth=1000, max_features=7, min_samples_split=2; total time=   0.3s\n",
            "[CV] END max_depth=1000, max_features=7, min_samples_split=2; total time=   0.2s\n",
            "[CV] END max_depth=1000, max_features=7, min_samples_split=2; total time=   0.3s\n",
            "[CV] END max_depth=1000, max_features=7, min_samples_split=5; total time=   0.4s\n",
            "[CV] END max_depth=1000, max_features=7, min_samples_split=5; total time=   0.3s\n",
            "[CV] END max_depth=1000, max_features=7, min_samples_split=5; total time=   0.2s\n",
            "[CV] END max_depth=1000, max_features=7, min_samples_split=5; total time=   0.3s\n",
            "[CV] END max_depth=1000, max_features=7, min_samples_split=5; total time=   0.3s\n",
            "[CV] END max_depth=1000, max_features=7, min_samples_split=10; total time=   0.4s\n",
            "[CV] END max_depth=1000, max_features=7, min_samples_split=10; total time=   0.5s\n",
            "[CV] END max_depth=1000, max_features=7, min_samples_split=10; total time=   0.3s\n",
            "[CV] END max_depth=1000, max_features=7, min_samples_split=10; total time=   0.3s\n",
            "[CV] END max_depth=1000, max_features=7, min_samples_split=10; total time=   0.3s\n",
            "[CV] END max_depth=1000, max_features=7, min_samples_split=20; total time=   0.3s\n",
            "[CV] END max_depth=1000, max_features=7, min_samples_split=20; total time=   0.2s\n",
            "[CV] END max_depth=1000, max_features=7, min_samples_split=20; total time=   0.2s\n",
            "[CV] END max_depth=1000, max_features=7, min_samples_split=20; total time=   0.2s\n",
            "[CV] END max_depth=1000, max_features=7, min_samples_split=20; total time=   0.2s\n",
            "[CV] END max_depth=1000, max_features=8, min_samples_split=2; total time=   0.3s\n",
            "[CV] END max_depth=1000, max_features=8, min_samples_split=2; total time=   0.3s\n",
            "[CV] END max_depth=1000, max_features=8, min_samples_split=2; total time=   0.3s\n",
            "[CV] END max_depth=1000, max_features=8, min_samples_split=2; total time=   0.3s\n",
            "[CV] END max_depth=1000, max_features=8, min_samples_split=2; total time=   0.3s\n",
            "[CV] END max_depth=1000, max_features=8, min_samples_split=5; total time=   0.3s\n",
            "[CV] END max_depth=1000, max_features=8, min_samples_split=5; total time=   0.3s\n",
            "[CV] END max_depth=1000, max_features=8, min_samples_split=5; total time=   0.3s\n",
            "[CV] END max_depth=1000, max_features=8, min_samples_split=5; total time=   0.5s\n",
            "[CV] END max_depth=1000, max_features=8, min_samples_split=5; total time=   0.3s\n",
            "[CV] END max_depth=1000, max_features=8, min_samples_split=10; total time=   0.3s\n",
            "[CV] END max_depth=1000, max_features=8, min_samples_split=10; total time=   0.3s\n",
            "[CV] END max_depth=1000, max_features=8, min_samples_split=10; total time=   0.3s\n",
            "[CV] END max_depth=1000, max_features=8, min_samples_split=10; total time=   0.4s\n",
            "[CV] END max_depth=1000, max_features=8, min_samples_split=10; total time=   0.6s\n",
            "[CV] END max_depth=1000, max_features=8, min_samples_split=20; total time=   0.4s\n",
            "[CV] END max_depth=1000, max_features=8, min_samples_split=20; total time=   0.4s\n",
            "[CV] END max_depth=1000, max_features=8, min_samples_split=20; total time=   0.6s\n",
            "[CV] END max_depth=1000, max_features=8, min_samples_split=20; total time=   0.4s\n",
            "[CV] END max_depth=1000, max_features=8, min_samples_split=20; total time=   0.3s\n"
          ]
        }
      ]
    },
    {
      "cell_type": "code",
      "source": [
        "rf_cv_model.best_score_"
      ],
      "metadata": {
        "colab": {
          "base_uri": "https://localhost:8080/"
        },
        "id": "JUyfd6hZSJZz",
        "outputId": "b96f90af-1b78-4a8b-eaf1-15229c6d5171"
      },
      "execution_count": 24,
      "outputs": [
        {
          "output_type": "execute_result",
          "data": {
            "text/plain": [
              "0.7876773970231914"
            ]
          },
          "metadata": {},
          "execution_count": 24
        }
      ]
    },
    {
      "cell_type": "code",
      "source": [
        "rf_cv_model.best_params_"
      ],
      "metadata": {
        "colab": {
          "base_uri": "https://localhost:8080/"
        },
        "id": "RToa5T_iSPUD",
        "outputId": "41d165fa-68f9-46bb-b601-27bfa6eb8fbd"
      },
      "execution_count": 25,
      "outputs": [
        {
          "output_type": "execute_result",
          "data": {
            "text/plain": [
              "{'max_depth': 500, 'max_features': 7, 'min_samples_split': 2}"
            ]
          },
          "metadata": {},
          "execution_count": 25
        }
      ]
    },
    {
      "cell_type": "code",
      "source": [
        "rf_tuned=RandomForestClassifier(max_depth=500, max_features=7, min_samples_split=2).fit(X_train,y_train)\n",
        "y_pred=rf_tuned.predict(X_test)\n",
        "accuracy_score(y_test,y_pred)"
      ],
      "metadata": {
        "colab": {
          "base_uri": "https://localhost:8080/"
        },
        "id": "KeeOkKsnSS5-",
        "outputId": "91c826f4-167a-4b0c-9c58-534ca7d1cdab"
      },
      "execution_count": 27,
      "outputs": [
        {
          "output_type": "execute_result",
          "data": {
            "text/plain": [
              "0.7272727272727273"
            ]
          },
          "metadata": {},
          "execution_count": 27
        }
      ]
    },
    {
      "cell_type": "markdown",
      "source": [
        "Değişken Seçimi"
      ],
      "metadata": {
        "id": "HuqLQ8v0S39z"
      }
    },
    {
      "cell_type": "code",
      "source": [
        "feature_imp=pd.Series(rf_tuned.feature_importances_,index=X_train.columns).sort_values(ascending=False)\n",
        "sns.barplot(x=feature_imp,y=feature_imp.index)\n",
        "plt.xlabel(\"Değişken Önem Skorları\")\n",
        "plt.ylabel(\"Değişkenler\")\n",
        "plt.title(\"Değişken Önem Düzeyi\")\n",
        "plt.show()"
      ],
      "metadata": {
        "colab": {
          "base_uri": "https://localhost:8080/",
          "height": 298
        },
        "id": "9wVBhM3CS2zw",
        "outputId": "707494a5-3ef9-4ffd-8f75-c7c9d5be2e2e"
      },
      "execution_count": 29,
      "outputs": [
        {
          "output_type": "display_data",
          "data": {
            "text/plain": [
              "<Figure size 432x288 with 1 Axes>"
            ],
            "image/png": "[encoded data removed]"
          },
          "metadata": {
            "needs_background": "light"
          }
        }
      ]
    }
  ]
}